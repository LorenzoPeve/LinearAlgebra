{
 "cells": [
  {
   "cell_type": "markdown",
   "id": "5a96aa84",
   "metadata": {},
   "source": [
    "# Elementary Row Operations"
   ]
  },
  {
   "cell_type": "markdown",
   "id": "9ddb72b3",
   "metadata": {},
   "source": [
    "There are three types of elementary row operations that one can apply to a matrix.\n",
    "\n",
    "1. Switch two rows.\n",
    "\n",
    "M2. ultiply a row by a non-zero scalar.\n",
    "\n",
    "Add a scalar multiple of one row to another row. (More precisely, replace one row with the sum of itself and a scalar multiple of a different row.)"
   ]
  },
  {
   "cell_type": "code",
   "execution_count": 1,
   "id": "066a4be2",
   "metadata": {},
   "outputs": [],
   "source": [
    "import numpy as np"
   ]
  },
  {
   "cell_type": "code",
   "execution_count": 54,
   "id": "0c88e767",
   "metadata": {},
   "outputs": [
    {
     "data": {
      "text/plain": [
       "array([[ 0,  1, -1,  1],\n",
       "       [ 1,  2, -2,  1],\n",
       "       [ 2,  6, -6,  4]])"
      ]
     },
     "execution_count": 54,
     "metadata": {},
     "output_type": "execute_result"
    }
   ],
   "source": [
    "r1 = np.array([0, 1, -1, 1]).reshape(1,-1)\n",
    "r2 = np.array([1, 2, -2, 1]).reshape(1,-1)\n",
    "r3 = np.array([2, 6, -6, 4]).reshape(1,-1)\n",
    "M = np.array([r1,r2,r3]).reshape(3,-1)\n",
    "M"
   ]
  },
  {
   "cell_type": "markdown",
   "id": "1687245b",
   "metadata": {},
   "source": [
    "First, switch the first two rows."
   ]
  },
  {
   "cell_type": "code",
   "execution_count": 55,
   "id": "1853c283",
   "metadata": {},
   "outputs": [
    {
     "data": {
      "text/plain": [
       "array([[ 1,  2, -2,  1],\n",
       "       [ 0,  1, -1,  1],\n",
       "       [ 2,  6, -6,  4]])"
      ]
     },
     "execution_count": 55,
     "metadata": {},
     "output_type": "execute_result"
    }
   ],
   "source": [
    "M[[0,1]] = M[[1,0]]\n",
    "M"
   ]
  },
  {
   "cell_type": "markdown",
   "id": "941c369e",
   "metadata": {},
   "source": [
    "Replace R3 with R3 - 2*R1"
   ]
  },
  {
   "cell_type": "code",
   "execution_count": 56,
   "id": "45e4df83",
   "metadata": {},
   "outputs": [
    {
     "data": {
      "text/plain": [
       "array([[ 1,  2, -2,  1],\n",
       "       [ 0,  1, -1,  1],\n",
       "       [ 0,  2, -2,  2]])"
      ]
     },
     "execution_count": 56,
     "metadata": {},
     "output_type": "execute_result"
    }
   ],
   "source": [
    "M[2] = M[2] - 2*M[0]\n",
    "M"
   ]
  },
  {
   "cell_type": "markdown",
   "id": "4cc4b1e0",
   "metadata": {},
   "source": [
    "Next, replace R1 with R1 - 2*R2"
   ]
  },
  {
   "cell_type": "code",
   "execution_count": 57,
   "id": "be3466c6",
   "metadata": {},
   "outputs": [
    {
     "data": {
      "text/plain": [
       "array([[ 1,  0,  0, -1],\n",
       "       [ 0,  1, -1,  1],\n",
       "       [ 0,  2, -2,  2]])"
      ]
     },
     "execution_count": 57,
     "metadata": {},
     "output_type": "execute_result"
    }
   ],
   "source": [
    "M[0] = M[0] - 2*M[1]\n",
    "M"
   ]
  },
  {
   "cell_type": "markdown",
   "id": "e7e94e90",
   "metadata": {},
   "source": [
    "Finally, replace R3 with R3 - 2*R2"
   ]
  },
  {
   "cell_type": "code",
   "execution_count": 58,
   "id": "b44b8538",
   "metadata": {},
   "outputs": [
    {
     "data": {
      "text/plain": [
       "array([[ 1,  0,  0, -1],\n",
       "       [ 0,  1, -1,  1],\n",
       "       [ 0,  0,  0,  0]])"
      ]
     },
     "execution_count": 58,
     "metadata": {},
     "output_type": "execute_result"
    }
   ],
   "source": [
    "M[2] = M[2] - 2*M[1]\n",
    "M"
   ]
  },
  {
   "cell_type": "code",
   "execution_count": null,
   "id": "c98ca423",
   "metadata": {},
   "outputs": [],
   "source": []
  }
 ],
 "metadata": {
  "kernelspec": {
   "display_name": "venv_dataviz",
   "language": "python",
   "name": "venv_dataviz"
  },
  "language_info": {
   "codemirror_mode": {
    "name": "ipython",
    "version": 3
   },
   "file_extension": ".py",
   "mimetype": "text/x-python",
   "name": "python",
   "nbconvert_exporter": "python",
   "pygments_lexer": "ipython3",
   "version": "3.10.2"
  }
 },
 "nbformat": 4,
 "nbformat_minor": 5
}

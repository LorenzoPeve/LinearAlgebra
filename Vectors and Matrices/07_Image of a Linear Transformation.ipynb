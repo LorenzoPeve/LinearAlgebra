{
 "cells": [
  {
   "cell_type": "code",
   "execution_count": 2,
   "id": "70863f15",
   "metadata": {},
   "outputs": [],
   "source": [
    "import numpy as np"
   ]
  },
  {
   "cell_type": "markdown",
   "id": "8585a801",
   "metadata": {},
   "source": [
    "## Ex 1:"
   ]
  },
  {
   "cell_type": "code",
   "execution_count": 3,
   "id": "3c5bb19f",
   "metadata": {},
   "outputs": [
    {
     "data": {
      "text/plain": [
       "array([[ 1.,  2.,  3.,  1.],\n",
       "       [ 0.,  1.,  1., -1.],\n",
       "       [-1.,  4.,  3., -7.]])"
      ]
     },
     "execution_count": 3,
     "metadata": {},
     "output_type": "execute_result"
    }
   ],
   "source": [
    "c1 = np.array([1, 0, -1]).reshape(-1, 1)\n",
    "c2 = np.array([2, 1, 4]).reshape(-1, 1)\n",
    "c3 = np.array([3, 1, 3]).reshape(-1, 1)\n",
    "c4 = np.array([1, -1, -7]).reshape(-1, 1)\n",
    "M = np.concatenate([c1, c2, c3, c4], axis = 1).astype(float)\n",
    "M"
   ]
  },
  {
   "cell_type": "code",
   "execution_count": 4,
   "id": "95768c8b",
   "metadata": {},
   "outputs": [
    {
     "data": {
      "text/plain": [
       "array([[ 1.,  2.,  3.,  1.],\n",
       "       [ 0.,  1.,  1., -1.],\n",
       "       [ 0.,  6.,  6., -6.]])"
      ]
     },
     "execution_count": 4,
     "metadata": {},
     "output_type": "execute_result"
    }
   ],
   "source": [
    "M[2] = M[2] + M[0]\n",
    "M"
   ]
  },
  {
   "cell_type": "code",
   "execution_count": 5,
   "id": "e07c1cd0",
   "metadata": {
    "scrolled": false
   },
   "outputs": [
    {
     "data": {
      "text/plain": [
       "array([[ 1.,  0.,  1.,  3.],\n",
       "       [ 0.,  1.,  1., -1.],\n",
       "       [ 0.,  0.,  0.,  0.]])"
      ]
     },
     "execution_count": 5,
     "metadata": {},
     "output_type": "execute_result"
    }
   ],
   "source": [
    "M[0] = M[0] - 2*M[1]\n",
    "M[2] = M[2] - 6*M[1]\n",
    "M"
   ]
  },
  {
   "cell_type": "markdown",
   "id": "45f422d7",
   "metadata": {},
   "source": [
    "## Ex 2:"
   ]
  },
  {
   "cell_type": "code",
   "execution_count": 6,
   "id": "004cf167",
   "metadata": {},
   "outputs": [
    {
     "data": {
      "text/plain": [
       "array([[ 1.,  2.,  3.,  2.],\n",
       "       [ 0.,  1.,  1., -1.],\n",
       "       [-1.,  4.,  3.,  0.]])"
      ]
     },
     "execution_count": 6,
     "metadata": {},
     "output_type": "execute_result"
    }
   ],
   "source": [
    "c1 = np.array([1, 0, -1]).reshape(-1, 1)\n",
    "c2 = np.array([2, 1, 4]).reshape(-1, 1)\n",
    "c3 = np.array([3, 1, 3]).reshape(-1, 1)\n",
    "c4 = np.array([2, -1, 0]).reshape(-1, 1)\n",
    "M = np.concatenate([c1, c2, c3, c4], axis = 1).astype(float)\n",
    "M"
   ]
  },
  {
   "cell_type": "code",
   "execution_count": 7,
   "id": "546c4e60",
   "metadata": {},
   "outputs": [
    {
     "data": {
      "text/plain": [
       "array([[ 1.,  2.,  3.,  2.],\n",
       "       [ 0.,  1.,  1., -1.],\n",
       "       [ 0.,  6.,  6.,  2.]])"
      ]
     },
     "execution_count": 7,
     "metadata": {},
     "output_type": "execute_result"
    }
   ],
   "source": [
    "M[2] = M[2] + M[0]\n",
    "M"
   ]
  },
  {
   "cell_type": "code",
   "execution_count": 8,
   "id": "0475cc0c",
   "metadata": {
    "scrolled": true
   },
   "outputs": [
    {
     "data": {
      "text/plain": [
       "array([[ 1.,  0.,  1.,  4.],\n",
       "       [ 0.,  1.,  1., -1.],\n",
       "       [ 0.,  0.,  0.,  8.]])"
      ]
     },
     "execution_count": 8,
     "metadata": {},
     "output_type": "execute_result"
    }
   ],
   "source": [
    "M[0] = M[0] - 2*M[1]\n",
    "M[2] = M[2] - 6*M[1]\n",
    "M"
   ]
  },
  {
   "cell_type": "markdown",
   "id": "198b2060",
   "metadata": {},
   "source": [
    "## Ex 3:"
   ]
  },
  {
   "cell_type": "markdown",
   "id": "7054ac0f",
   "metadata": {},
   "source": [
    "<img src=\"images/image_of_LT.PNG\">"
   ]
  },
  {
   "cell_type": "code",
   "execution_count": 9,
   "id": "5dcea765",
   "metadata": {},
   "outputs": [
    {
     "data": {
      "text/plain": [
       "array([[ 1.,  2.,  3.],\n",
       "       [ 0.,  1.,  1.],\n",
       "       [-1.,  4.,  3.]])"
      ]
     },
     "execution_count": 9,
     "metadata": {},
     "output_type": "execute_result"
    }
   ],
   "source": [
    "c1 = np.array([1, 0, -1]).reshape(-1, 1)\n",
    "c2 = np.array([2, 1, 4]).reshape(-1, 1)\n",
    "c3 = np.array([3, 1, 3]).reshape(-1, 1)\n",
    "M = np.concatenate([c1, c2, c3], axis = 1).astype(float)\n",
    "M"
   ]
  },
  {
   "cell_type": "code",
   "execution_count": 10,
   "id": "627fb005",
   "metadata": {},
   "outputs": [
    {
     "data": {
      "text/plain": [
       "array([[1., 2., 3.],\n",
       "       [0., 1., 1.],\n",
       "       [0., 6., 6.]])"
      ]
     },
     "execution_count": 10,
     "metadata": {},
     "output_type": "execute_result"
    }
   ],
   "source": [
    "M[2] = M[2] + M[0]\n",
    "M"
   ]
  },
  {
   "cell_type": "code",
   "execution_count": 11,
   "id": "9521181c",
   "metadata": {},
   "outputs": [
    {
     "data": {
      "text/plain": [
       "array([[1., 0., 1.],\n",
       "       [0., 1., 1.],\n",
       "       [0., 0., 0.]])"
      ]
     },
     "execution_count": 11,
     "metadata": {},
     "output_type": "execute_result"
    }
   ],
   "source": [
    "M[0] = M[0] - 2*M[1]\n",
    "M[2] = M[2] - 6*M[1]\n",
    "M"
   ]
  },
  {
   "cell_type": "markdown",
   "id": "bf50c625",
   "metadata": {},
   "source": [
    "For example lets do w = [2, -1, 0 ]"
   ]
  },
  {
   "cell_type": "code",
   "execution_count": 12,
   "id": "d98d9b0f",
   "metadata": {},
   "outputs": [
    {
     "data": {
      "text/plain": [
       "array([[ 1.,  2.,  3.,  2.],\n",
       "       [ 0.,  1.,  1., -1.],\n",
       "       [-1.,  4.,  3.,  0.]])"
      ]
     },
     "execution_count": 12,
     "metadata": {},
     "output_type": "execute_result"
    }
   ],
   "source": [
    "c1 = np.array([1, 0, -1]).reshape(-1, 1)\n",
    "c2 = np.array([2, 1, 4]).reshape(-1, 1)\n",
    "c3 = np.array([3, 1, 3]).reshape(-1, 1)\n",
    "c4 = np.array([2, -1, 0]).reshape(-1, 1)\n",
    "M = np.concatenate([c1, c2, c3, c4], axis = 1).astype(float)\n",
    "M"
   ]
  },
  {
   "cell_type": "code",
   "execution_count": 13,
   "id": "b3302cf7",
   "metadata": {
    "scrolled": false
   },
   "outputs": [
    {
     "data": {
      "text/plain": [
       "array([[ 1.,  0.,  1.,  4.],\n",
       "       [ 0.,  1.,  1., -1.],\n",
       "       [ 0.,  0.,  0.,  8.]])"
      ]
     },
     "execution_count": 13,
     "metadata": {},
     "output_type": "execute_result"
    }
   ],
   "source": [
    "M[2] = M[2] + M[0]\n",
    "M[0] = M[0] - 2*M[1]\n",
    "M[2] = M[2] - 6*M[1]\n",
    "M"
   ]
  },
  {
   "cell_type": "markdown",
   "id": "384e05b5",
   "metadata": {},
   "source": [
    "## Ex 4:"
   ]
  },
  {
   "cell_type": "markdown",
   "id": "5dfd93f6",
   "metadata": {},
   "source": [
    "<img src=\"images/kernel_LT.PNG\">"
   ]
  },
  {
   "cell_type": "code",
   "execution_count": 16,
   "id": "9e8f8b3e",
   "metadata": {},
   "outputs": [
    {
     "data": {
      "text/plain": [
       "array([[ 1.,  2.,  5.],\n",
       "       [ 0.,  1.,  2.],\n",
       "       [-1.,  1.,  1.],\n",
       "       [ 2., -1.,  0.]])"
      ]
     },
     "execution_count": 16,
     "metadata": {},
     "output_type": "execute_result"
    }
   ],
   "source": [
    "c1 = np.array([1, 0, -1, 2]).reshape(-1, 1)\n",
    "c2 = np.array([2, 1, 1, -1]).reshape(-1, 1)\n",
    "c3 = np.array([5, 2, 1, 0]).reshape(-1, 1)\n",
    "M = np.concatenate([c1, c2, c3], axis = 1).astype(float)\n",
    "M"
   ]
  },
  {
   "cell_type": "code",
   "execution_count": 17,
   "id": "338dceb7",
   "metadata": {},
   "outputs": [
    {
     "data": {
      "text/plain": [
       "array([[  1.,   2.,   5.],\n",
       "       [  0.,   1.,   2.],\n",
       "       [  0.,   3.,   6.],\n",
       "       [  0.,  -5., -10.]])"
      ]
     },
     "execution_count": 17,
     "metadata": {},
     "output_type": "execute_result"
    }
   ],
   "source": [
    "M[2] = M[2] + M[0]\n",
    "M[3] = M[3] + -2*M[0]\n",
    "M"
   ]
  },
  {
   "cell_type": "code",
   "execution_count": 18,
   "id": "351e8a36",
   "metadata": {},
   "outputs": [
    {
     "data": {
      "text/plain": [
       "array([[1., 0., 1.],\n",
       "       [0., 1., 2.],\n",
       "       [0., 0., 0.],\n",
       "       [0., 0., 0.]])"
      ]
     },
     "execution_count": 18,
     "metadata": {},
     "output_type": "execute_result"
    }
   ],
   "source": [
    "M[0] = M[0] - 2*M[1]\n",
    "M[2] = M[2] - 3*M[1]\n",
    "M[3] = M[3] + 5*M[1]\n",
    "M"
   ]
  },
  {
   "cell_type": "markdown",
   "id": "b806b9dd",
   "metadata": {},
   "source": [
    "There are free variables so \\\n",
    "[ \\\n",
    "-x3 \\\n",
    "-2x3 \\\n",
    "x3 \\\n",
    "]"
   ]
  },
  {
   "cell_type": "code",
   "execution_count": 20,
   "id": "1257a1fd",
   "metadata": {},
   "outputs": [
    {
     "data": {
      "text/plain": [
       "array([[-3],\n",
       "       [-6],\n",
       "       [ 3]])"
      ]
     },
     "execution_count": 20,
     "metadata": {},
     "output_type": "execute_result"
    }
   ],
   "source": [
    "x3 = 3\n",
    "x = np.array([-1*x3, -2*x3, x3]).reshape(-1, 1)\n",
    "x"
   ]
  },
  {
   "cell_type": "code",
   "execution_count": 21,
   "id": "ed3004d9",
   "metadata": {},
   "outputs": [
    {
     "data": {
      "text/plain": [
       "array([[ 1.,  2.,  5.],\n",
       "       [ 0.,  1.,  2.],\n",
       "       [-1.,  1.,  1.],\n",
       "       [ 2., -1.,  0.]])"
      ]
     },
     "execution_count": 21,
     "metadata": {},
     "output_type": "execute_result"
    }
   ],
   "source": [
    "c1 = np.array([1, 0, -1, 2]).reshape(-1, 1)\n",
    "c2 = np.array([2, 1, 1, -1]).reshape(-1, 1)\n",
    "c3 = np.array([5, 2, 1, 0]).reshape(-1, 1)\n",
    "M = np.concatenate([c1, c2, c3], axis = 1).astype(float)\n",
    "M"
   ]
  },
  {
   "cell_type": "code",
   "execution_count": 22,
   "id": "fd722f62",
   "metadata": {},
   "outputs": [
    {
     "data": {
      "text/plain": [
       "array([[0.],\n",
       "       [0.],\n",
       "       [0.],\n",
       "       [0.]])"
      ]
     },
     "execution_count": 22,
     "metadata": {},
     "output_type": "execute_result"
    }
   ],
   "source": [
    "M @ x"
   ]
  },
  {
   "cell_type": "code",
   "execution_count": null,
   "id": "42e7164d",
   "metadata": {},
   "outputs": [],
   "source": []
  }
 ],
 "metadata": {
  "kernelspec": {
   "display_name": "LR",
   "language": "python",
   "name": "lr"
  },
  "language_info": {
   "codemirror_mode": {
    "name": "ipython",
    "version": 3
   },
   "file_extension": ".py",
   "mimetype": "text/x-python",
   "name": "python",
   "nbconvert_exporter": "python",
   "pygments_lexer": "ipython3",
   "version": "3.10.2"
  }
 },
 "nbformat": 4,
 "nbformat_minor": 5
}

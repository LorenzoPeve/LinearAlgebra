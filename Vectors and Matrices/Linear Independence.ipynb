{
 "cells": [
  {
   "cell_type": "code",
   "execution_count": 1,
   "id": "70863f15",
   "metadata": {},
   "outputs": [],
   "source": [
    "import numpy as np"
   ]
  },
  {
   "cell_type": "markdown",
   "id": "307a080c",
   "metadata": {},
   "source": [
    "## Ex 1:"
   ]
  },
  {
   "cell_type": "markdown",
   "id": "ee43acfd",
   "metadata": {},
   "source": [
    "<img src=\"images/independence.PNG\">"
   ]
  },
  {
   "cell_type": "code",
   "execution_count": 2,
   "id": "3c5bb19f",
   "metadata": {},
   "outputs": [
    {
     "data": {
      "text/plain": [
       "array([[ 1.,  2., -3.],\n",
       "       [-1., -1.,  3.],\n",
       "       [ 0.,  3.,  0.],\n",
       "       [ 0.,  5.,  0.]])"
      ]
     },
     "execution_count": 2,
     "metadata": {},
     "output_type": "execute_result"
    }
   ],
   "source": [
    "c1 = np.array([1, -1, 0, 0]).reshape(-1, 1)\n",
    "c2 = np.array([2, -1, 3, 5]).reshape(-1, 1)\n",
    "c3 = np.array([-3, 3, 0, 0]).reshape(-1, 1)\n",
    "M = np.concatenate([c1, c2, c3], axis = 1).astype(float)\n",
    "M"
   ]
  },
  {
   "cell_type": "code",
   "execution_count": 3,
   "id": "95768c8b",
   "metadata": {},
   "outputs": [
    {
     "data": {
      "text/plain": [
       "array([[ 1.,  2., -3.],\n",
       "       [ 0.,  1.,  0.],\n",
       "       [ 0.,  3.,  0.],\n",
       "       [ 0.,  5.,  0.]])"
      ]
     },
     "execution_count": 3,
     "metadata": {},
     "output_type": "execute_result"
    }
   ],
   "source": [
    "M[1] = M[1] + M[0]\n",
    "M"
   ]
  },
  {
   "cell_type": "code",
   "execution_count": 4,
   "id": "e07c1cd0",
   "metadata": {},
   "outputs": [
    {
     "data": {
      "text/plain": [
       "array([[ 1.,  0., -3.],\n",
       "       [ 0.,  1.,  0.],\n",
       "       [ 0.,  0.,  0.],\n",
       "       [ 0.,  0.,  0.]])"
      ]
     },
     "execution_count": 4,
     "metadata": {},
     "output_type": "execute_result"
    }
   ],
   "source": [
    "M[0] = M[0] - 2*M[1]\n",
    "M[2] = M[2] - 3*M[1]\n",
    "M[3] = M[3] - 5*M[1]\n",
    "M"
   ]
  },
  {
   "cell_type": "markdown",
   "id": "87ad9d55",
   "metadata": {},
   "source": [
    "There are free variables so linearly dependent"
   ]
  },
  {
   "cell_type": "markdown",
   "id": "5612a5c8",
   "metadata": {},
   "source": [
    "Example of such scalars:"
   ]
  },
  {
   "cell_type": "code",
   "execution_count": 5,
   "id": "6a5c5a59",
   "metadata": {},
   "outputs": [
    {
     "data": {
      "text/plain": [
       "array([[ 1.,  2., -3.],\n",
       "       [-1., -1.,  3.],\n",
       "       [ 0.,  3.,  0.],\n",
       "       [ 0.,  5.,  0.]])"
      ]
     },
     "execution_count": 5,
     "metadata": {},
     "output_type": "execute_result"
    }
   ],
   "source": [
    "c1 = np.array([1, -1, 0, 0]).reshape(-1, 1)\n",
    "c2 = np.array([2, -1, 3, 5]).reshape(-1, 1)\n",
    "c3 = np.array([-3, 3, 0, 0]).reshape(-1, 1)\n",
    "M = np.concatenate([c1, c2, c3], axis = 1).astype(float)\n",
    "M"
   ]
  },
  {
   "cell_type": "code",
   "execution_count": 6,
   "id": "ddb407ca",
   "metadata": {
    "scrolled": true
   },
   "outputs": [
    {
     "data": {
      "text/plain": [
       "array([[0.],\n",
       "       [0.],\n",
       "       [0.],\n",
       "       [0.]])"
      ]
     },
     "execution_count": 6,
     "metadata": {},
     "output_type": "execute_result"
    }
   ],
   "source": [
    "M @ np.array([15, -0, 5]).reshape(-1, 1)"
   ]
  },
  {
   "cell_type": "markdown",
   "id": "014d8d23",
   "metadata": {},
   "source": [
    "## Ex 2:"
   ]
  },
  {
   "cell_type": "markdown",
   "id": "5ed9a38c",
   "metadata": {},
   "source": [
    "<img src=\"images/independence2.PNG\">"
   ]
  },
  {
   "cell_type": "code",
   "execution_count": 7,
   "id": "d13e60ea",
   "metadata": {},
   "outputs": [
    {
     "data": {
      "text/plain": [
       "array([[ 1.,  0., -3.],\n",
       "       [-1.,  0.,  3.],\n",
       "       [ 3.,  0.,  3.],\n",
       "       [ 4.,  0.,  5.],\n",
       "       [ 5.,  0.,  1.]])"
      ]
     },
     "execution_count": 7,
     "metadata": {},
     "output_type": "execute_result"
    }
   ],
   "source": [
    "c1 = np.array([1, -1, 3, 4, 5]).reshape(-1, 1)\n",
    "c2 = np.array([0, 0, 0, 0, 0]).reshape(-1, 1)\n",
    "c3 = np.array([-3, 3, 3, 5, 1]).reshape(-1, 1)\n",
    "M = np.concatenate([c1, c2, c3], axis = 1).astype(float)\n",
    "M"
   ]
  },
  {
   "cell_type": "code",
   "execution_count": 8,
   "id": "4d173852",
   "metadata": {},
   "outputs": [
    {
     "data": {
      "text/plain": [
       "array([[ 1.,  0., -3.],\n",
       "       [ 0.,  0.,  0.],\n",
       "       [ 0.,  0., 12.],\n",
       "       [ 0.,  0., 17.],\n",
       "       [ 0.,  0., 16.]])"
      ]
     },
     "execution_count": 8,
     "metadata": {},
     "output_type": "execute_result"
    }
   ],
   "source": [
    "M[1] = M[1] + M[0]\n",
    "M[2] = M[2] - 3*M[0]\n",
    "M[3] = M[3] - 4*M[0]\n",
    "M[4] = M[4] - 5*M[0]\n",
    "M"
   ]
  },
  {
   "cell_type": "code",
   "execution_count": 9,
   "id": "79c4221e",
   "metadata": {},
   "outputs": [
    {
     "data": {
      "text/plain": [
       "array([[ 1.,  0., -3.],\n",
       "       [ 0.,  0., 16.],\n",
       "       [ 0.,  0., 12.],\n",
       "       [ 0.,  0., 17.],\n",
       "       [ 0.,  0.,  0.]])"
      ]
     },
     "execution_count": 9,
     "metadata": {},
     "output_type": "execute_result"
    }
   ],
   "source": [
    "M[[1, 4]] = M[[4, 1]]\n",
    "M"
   ]
  },
  {
   "cell_type": "code",
   "execution_count": 10,
   "id": "6e7fd373",
   "metadata": {},
   "outputs": [
    {
     "data": {
      "text/plain": [
       "array([[ 1.,  0., -3.],\n",
       "       [ 0.,  0.,  1.],\n",
       "       [ 0.,  0., 12.],\n",
       "       [ 0.,  0., 17.],\n",
       "       [ 0.,  0.,  0.]])"
      ]
     },
     "execution_count": 10,
     "metadata": {},
     "output_type": "execute_result"
    }
   ],
   "source": [
    "M[1] = M[1]/16\n",
    "M"
   ]
  },
  {
   "cell_type": "code",
   "execution_count": 11,
   "id": "cc659afb",
   "metadata": {},
   "outputs": [
    {
     "data": {
      "text/plain": [
       "array([[1., 0., 0.],\n",
       "       [0., 0., 1.],\n",
       "       [0., 0., 0.],\n",
       "       [0., 0., 0.],\n",
       "       [0., 0., 0.]])"
      ]
     },
     "execution_count": 11,
     "metadata": {},
     "output_type": "execute_result"
    }
   ],
   "source": [
    "M[0] = M[0] + 3*M[1]\n",
    "M[2] = M[2] - 12*M[1]\n",
    "M[3] = M[3] - 17*M[1]\n",
    "M"
   ]
  },
  {
   "cell_type": "markdown",
   "id": "ecd32656",
   "metadata": {},
   "source": [
    "There are free variables so linearly dependent"
   ]
  },
  {
   "cell_type": "markdown",
   "id": "1decca30",
   "metadata": {},
   "source": [
    "Example of such scalars:"
   ]
  },
  {
   "cell_type": "code",
   "execution_count": 12,
   "id": "f4c41068",
   "metadata": {},
   "outputs": [
    {
     "data": {
      "text/plain": [
       "array([[ 1.,  0., -3.],\n",
       "       [-1.,  0.,  3.],\n",
       "       [ 3.,  0.,  3.],\n",
       "       [ 4.,  0.,  5.],\n",
       "       [ 5.,  0.,  1.]])"
      ]
     },
     "execution_count": 12,
     "metadata": {},
     "output_type": "execute_result"
    }
   ],
   "source": [
    "c1 = np.array([1, -1, 3, 4, 5]).reshape(-1, 1)\n",
    "c2 = np.array([0, 0, 0, 0, 0]).reshape(-1, 1)\n",
    "c3 = np.array([-3, 3, 3, 5, 1]).reshape(-1, 1)\n",
    "M = np.concatenate([c1, c2, c3], axis = 1).astype(float)\n",
    "M"
   ]
  },
  {
   "cell_type": "code",
   "execution_count": 13,
   "id": "0e61588b",
   "metadata": {
    "scrolled": false
   },
   "outputs": [
    {
     "data": {
      "text/plain": [
       "array([[0.],\n",
       "       [0.],\n",
       "       [0.],\n",
       "       [0.],\n",
       "       [0.]])"
      ]
     },
     "execution_count": 13,
     "metadata": {},
     "output_type": "execute_result"
    }
   ],
   "source": [
    "M @ np.array([0, 20, 0]).reshape(-1, 1)"
   ]
  }
 ],
 "metadata": {
  "kernelspec": {
   "display_name": "LR",
   "language": "python",
   "name": "lr"
  },
  "language_info": {
   "codemirror_mode": {
    "name": "ipython",
    "version": 3
   },
   "file_extension": ".py",
   "mimetype": "text/x-python",
   "name": "python",
   "nbconvert_exporter": "python",
   "pygments_lexer": "ipython3",
   "version": "3.10.2"
  }
 },
 "nbformat": 4,
 "nbformat_minor": 5
}

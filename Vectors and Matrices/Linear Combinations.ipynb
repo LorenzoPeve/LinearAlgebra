{
 "cells": [
  {
   "cell_type": "code",
   "execution_count": 1,
   "id": "9f25486f",
   "metadata": {},
   "outputs": [],
   "source": [
    "import numpy as np"
   ]
  },
  {
   "cell_type": "markdown",
   "id": "212871a9",
   "metadata": {},
   "source": [
    "Exercise 1: Prove that W = [21, -6, 15] is a linear combination of vectors v1, v2, v3 (the columns in the matrix below)"
   ]
  },
  {
   "cell_type": "code",
   "execution_count": 2,
   "id": "a84aee34",
   "metadata": {},
   "outputs": [
    {
     "data": {
      "text/plain": [
       "array([[ 2.,  1.,  0., 21.],\n",
       "       [ 1., -1., -1., -6.],\n",
       "       [ 3.,  0., -1., 15.]])"
      ]
     },
     "execution_count": 2,
     "metadata": {},
     "output_type": "execute_result"
    }
   ],
   "source": [
    "r1 = np.array([2, 1, 0, 21]).reshape(1,-1)\n",
    "r2 = np.array([1, -1, -1, -6]).reshape(1,-1)\n",
    "r3 = np.array([3, 0, -1, 15]).reshape(1,-1)\n",
    "M = np.array([r1,r2,r3]).reshape(3,-1)\n",
    "M = np.array([r1,r2,r3]).reshape(3,-1).astype(float)\n",
    "M"
   ]
  },
  {
   "cell_type": "code",
   "execution_count": 3,
   "id": "925f87da",
   "metadata": {},
   "outputs": [
    {
     "data": {
      "text/plain": [
       "array([[ 1. ,  0.5,  0. , 10.5],\n",
       "       [ 1. , -1. , -1. , -6. ],\n",
       "       [ 3. ,  0. , -1. , 15. ]])"
      ]
     },
     "execution_count": 3,
     "metadata": {},
     "output_type": "execute_result"
    }
   ],
   "source": [
    "M[0] = M[0] * 0.5\n",
    "M"
   ]
  },
  {
   "cell_type": "code",
   "execution_count": 4,
   "id": "8c556911",
   "metadata": {},
   "outputs": [
    {
     "data": {
      "text/plain": [
       "array([[  1. ,   0.5,   0. ,  10.5],\n",
       "       [  0. ,  -1.5,  -1. , -16.5],\n",
       "       [  0. ,  -1.5,  -1. , -16.5]])"
      ]
     },
     "execution_count": 4,
     "metadata": {},
     "output_type": "execute_result"
    }
   ],
   "source": [
    "M[1] = M[1] - M[0]\n",
    "M[2] = M[2] - 3*M[0]\n",
    "M"
   ]
  },
  {
   "cell_type": "code",
   "execution_count": 5,
   "id": "7094fb8d",
   "metadata": {},
   "outputs": [
    {
     "data": {
      "text/plain": [
       "array([[  1.        ,   0.5       ,   0.        ,  10.5       ],\n",
       "       [ -0.        ,   1.        ,   0.66666667,  11.        ],\n",
       "       [  0.        ,  -1.5       ,  -1.        , -16.5       ]])"
      ]
     },
     "execution_count": 5,
     "metadata": {},
     "output_type": "execute_result"
    }
   ],
   "source": [
    "M[1] = M[1] / -1.5\n",
    "M"
   ]
  },
  {
   "cell_type": "code",
   "execution_count": 6,
   "id": "f61b89c6",
   "metadata": {},
   "outputs": [
    {
     "data": {
      "text/plain": [
       "array([[ 1.        ,  0.        , -0.33333333,  5.        ],\n",
       "       [-0.        ,  1.        ,  0.66666667, 11.        ],\n",
       "       [ 0.        ,  0.        ,  0.        ,  0.        ]])"
      ]
     },
     "execution_count": 6,
     "metadata": {},
     "output_type": "execute_result"
    }
   ],
   "source": [
    "M[0] = M[0] - 0.5*M[1]\n",
    "M[2] = M[2] + 1.5*M[1]\n",
    "M"
   ]
  },
  {
   "cell_type": "markdown",
   "id": "8b2ff8a6",
   "metadata": {},
   "source": [
    "Exercise 2: v1 = [1, 3, 1], v2 = [3, 10, 2]. Can you write w = [1, 5, -1] as a linear combination"
   ]
  },
  {
   "cell_type": "code",
   "execution_count": 7,
   "id": "937272c9",
   "metadata": {
    "scrolled": true
   },
   "outputs": [
    {
     "data": {
      "text/plain": [
       "array([[ 1.,  3.,  1.],\n",
       "       [ 3., 10.,  5.],\n",
       "       [ 1.,  2., -1.]])"
      ]
     },
     "execution_count": 7,
     "metadata": {},
     "output_type": "execute_result"
    }
   ],
   "source": [
    "r1 = np.array([1, 3, 1]).reshape(-1, 1)\n",
    "r2 = np.array([3, 10, 2]).reshape(-1, 1)\n",
    "r3 = np.array([1, 5, -1]).reshape(-1, 1)\n",
    "M = np.concatenate([r1,r2, r3], axis = 1).astype(float)\n",
    "M"
   ]
  },
  {
   "cell_type": "code",
   "execution_count": 8,
   "id": "6da45e86",
   "metadata": {},
   "outputs": [
    {
     "data": {
      "text/plain": [
       "array([[ 1.,  3.,  1.],\n",
       "       [ 0.,  1.,  2.],\n",
       "       [ 0., -1., -2.]])"
      ]
     },
     "execution_count": 8,
     "metadata": {},
     "output_type": "execute_result"
    }
   ],
   "source": [
    "M[1] = M[1] - 3*M[0]\n",
    "M[2] = M[2] - M[0]\n",
    "M"
   ]
  },
  {
   "cell_type": "code",
   "execution_count": 9,
   "id": "5f8c11f9",
   "metadata": {},
   "outputs": [
    {
     "data": {
      "text/plain": [
       "array([[ 1.,  0., -5.],\n",
       "       [ 0.,  1.,  2.],\n",
       "       [ 0.,  0.,  0.]])"
      ]
     },
     "execution_count": 9,
     "metadata": {},
     "output_type": "execute_result"
    }
   ],
   "source": [
    "M[0] = M[0] - 3*M[1]\n",
    "M[2] = M[2] + M[1]\n",
    "M"
   ]
  },
  {
   "cell_type": "code",
   "execution_count": 10,
   "id": "f7d186ef",
   "metadata": {},
   "outputs": [],
   "source": [
    "r1 = -5 * np.array([1, 3, 1]).reshape(-1, 1)\n",
    "r2 = 2 * np.array([3, 10, 2]).reshape(-1, 1)"
   ]
  },
  {
   "cell_type": "code",
   "execution_count": 11,
   "id": "fc291d45",
   "metadata": {},
   "outputs": [
    {
     "data": {
      "text/plain": [
       "array([[ 1],\n",
       "       [ 5],\n",
       "       [-1]])"
      ]
     },
     "execution_count": 11,
     "metadata": {},
     "output_type": "execute_result"
    }
   ],
   "source": [
    "r1 + r2"
   ]
  },
  {
   "cell_type": "markdown",
   "id": "30ff7736",
   "metadata": {},
   "source": [
    "Exercise 3:"
   ]
  },
  {
   "cell_type": "markdown",
   "id": "3bc73942",
   "metadata": {},
   "source": [
    "<img src=\"images/vectors_span.PNG\">"
   ]
  },
  {
   "cell_type": "code",
   "execution_count": 12,
   "id": "11facd5f",
   "metadata": {},
   "outputs": [
    {
     "data": {
      "text/plain": [
       "array([[ 1.,  0., -1., -2.,  3.],\n",
       "       [ 1., -1., -2., -5.,  1.],\n",
       "       [ 0.,  2.,  3.,  8.,  3.]])"
      ]
     },
     "execution_count": 12,
     "metadata": {},
     "output_type": "execute_result"
    }
   ],
   "source": [
    "r1 = np.array([1, 1, 0]).reshape(-1, 1)\n",
    "r2 = np.array([0, -1, 2]).reshape(-1, 1)\n",
    "r3 = np.array([-1, -2, 3]).reshape(-1, 1)\n",
    "r4 = np.array([-2, -5, 8]).reshape(-1, 1)\n",
    "r5 = np.array([3, 1, 3]).reshape(-1, 1)\n",
    "M = np.concatenate([r1,r2, r3, r4, r5], axis = 1).astype(float)\n",
    "M"
   ]
  },
  {
   "cell_type": "code",
   "execution_count": 13,
   "id": "da39e925",
   "metadata": {},
   "outputs": [
    {
     "data": {
      "text/plain": [
       "array([[ 1.,  0., -1., -2.,  3.],\n",
       "       [ 0., -1., -1., -3., -2.],\n",
       "       [ 0.,  2.,  3.,  8.,  3.]])"
      ]
     },
     "execution_count": 13,
     "metadata": {},
     "output_type": "execute_result"
    }
   ],
   "source": [
    "M[1] = M[1] - M[0]\n",
    "M"
   ]
  },
  {
   "cell_type": "code",
   "execution_count": 14,
   "id": "12caa416",
   "metadata": {},
   "outputs": [
    {
     "data": {
      "text/plain": [
       "array([[ 1.,  0., -1., -2.,  3.],\n",
       "       [-0.,  1.,  1.,  3.,  2.],\n",
       "       [ 0.,  2.,  3.,  8.,  3.]])"
      ]
     },
     "execution_count": 14,
     "metadata": {},
     "output_type": "execute_result"
    }
   ],
   "source": [
    "M[1] = M[1]/-1\n",
    "M"
   ]
  },
  {
   "cell_type": "code",
   "execution_count": 15,
   "id": "e35e06a8",
   "metadata": {},
   "outputs": [
    {
     "data": {
      "text/plain": [
       "array([[ 1.,  0., -1., -2.,  3.],\n",
       "       [-0.,  1.,  1.,  3.,  2.],\n",
       "       [ 0.,  0.,  1.,  2., -1.]])"
      ]
     },
     "execution_count": 15,
     "metadata": {},
     "output_type": "execute_result"
    }
   ],
   "source": [
    "M[2] = M[2] - 2*M[1]\n",
    "M"
   ]
  },
  {
   "cell_type": "code",
   "execution_count": 16,
   "id": "53af2935",
   "metadata": {},
   "outputs": [
    {
     "data": {
      "text/plain": [
       "array([[ 1.,  0.,  0.,  0.,  2.],\n",
       "       [-0.,  1.,  0.,  1.,  3.],\n",
       "       [ 0.,  0.,  1.,  2., -1.]])"
      ]
     },
     "execution_count": 16,
     "metadata": {},
     "output_type": "execute_result"
    }
   ],
   "source": [
    "M[0] = M[0] + M[2]\n",
    "M[1] = M[1] - M[2]\n",
    "M"
   ]
  },
  {
   "cell_type": "markdown",
   "id": "dc1dae4c",
   "metadata": {},
   "source": [
    "The above is consistent, as there is no row of all zeros followed by a non-zero in the right column. Therefore, w is in the span of the given set of vectors.\n",
    "\n"
   ]
  }
 ],
 "metadata": {
  "kernelspec": {
   "display_name": "LR",
   "language": "python",
   "name": "lr"
  },
  "language_info": {
   "codemirror_mode": {
    "name": "ipython",
    "version": 3
   },
   "file_extension": ".py",
   "mimetype": "text/x-python",
   "name": "python",
   "nbconvert_exporter": "python",
   "pygments_lexer": "ipython3",
   "version": "3.10.2"
  }
 },
 "nbformat": 4,
 "nbformat_minor": 5
}

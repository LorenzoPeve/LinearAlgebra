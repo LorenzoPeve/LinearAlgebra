{
 "cells": [
  {
   "cell_type": "markdown",
   "id": "4fea0049",
   "metadata": {},
   "source": [
    "# RREF"
   ]
  },
  {
   "cell_type": "markdown",
   "id": "97daf38c",
   "metadata": {},
   "source": [
    "**Definitio:n** A matrix is in Row-Reduced Echelon Form (RREF) if it satisfies the following conditions:\n",
    "\n",
    "1. All rows of all zeros are at the bottom.\n",
    "\n",
    "2. In any non-zero row, the first non-zero entry is 1. (This is called a pivot.)\n",
    "\n",
    "3. Each pivot is the only non-zero entry in its column.\n",
    "\n",
    "4. A pivot in a lower row is to the right of any pivot in a higher row."
   ]
  },
  {
   "cell_type": "markdown",
   "id": "63715bd3",
   "metadata": {},
   "source": [
    "## Exercises"
   ]
  },
  {
   "cell_type": "markdown",
   "id": "ee7f0eb3",
   "metadata": {},
   "source": [
    "1) The following matrix is not in RREF. (a) Explain why and (b) fix it."
   ]
  },
  {
   "cell_type": "code",
   "execution_count": null,
   "id": "229a5972",
   "metadata": {},
   "outputs": [],
   "source": [
    "import numpy as np"
   ]
  },
  {
   "cell_type": "code",
   "execution_count": null,
   "id": "7744de50",
   "metadata": {},
   "outputs": [],
   "source": [
    "r1 = np.array([1, 4, 0, 0, 7]).reshape(1,-1)\n",
    "r2 = np.array([0, 0, 1, -2, 3]).reshape(1,-1)\n",
    "r3 = np.array([0, 0, 0, 1, 1]).reshape(1,-1)\n",
    "M = np.array([r1,r2,r3]).reshape(3,-1)\n",
    "M"
   ]
  },
  {
   "cell_type": "markdown",
   "id": "7c4d2e9d",
   "metadata": {},
   "source": [
    "Matrix *M* has a pivot in row 3, column 4, but it is not the only non-zero entry in its column."
   ]
  },
  {
   "cell_type": "markdown",
   "id": "5e03d212",
   "metadata": {},
   "source": [
    "To fix it, replace R2 with R2 + 2* R3"
   ]
  },
  {
   "cell_type": "code",
   "execution_count": null,
   "id": "144a91dd",
   "metadata": {
    "scrolled": true
   },
   "outputs": [],
   "source": [
    "M[1] = M[1] + 2*M[2]\n",
    "M"
   ]
  },
  {
   "attachments": {},
   "cell_type": "markdown",
   "id": "c4ba4186",
   "metadata": {},
   "source": [
    "2) Row-reduced echelon form"
   ]
  },
  {
   "cell_type": "code",
   "execution_count": null,
   "id": "525270ef",
   "metadata": {},
   "outputs": [],
   "source": [
    "r1 = np.array([-2, -2, -2, 0, -8]).reshape(1,-1)\n",
    "r2 = np.array([1, 1, 1, -1, 0]).reshape(1,-1)\n",
    "r3 = np.array([0, 1, 2, 0, 1]).reshape(1,-1)\n",
    "r4 = np.array([2, 1, 0, 2, 12]).reshape(1,-1)\n",
    "M = np.array([r1, r2, r3, r4]).reshape(4,-1)\n",
    "M"
   ]
  },
  {
   "cell_type": "markdown",
   "id": "7a53a12f",
   "metadata": {},
   "source": [
    "Scale R1 to have a leading 1"
   ]
  },
  {
   "cell_type": "code",
   "execution_count": null,
   "id": "c1b629e4",
   "metadata": {},
   "outputs": [],
   "source": [
    "M[0] = M[0] / -2\n",
    "M"
   ]
  },
  {
   "cell_type": "markdown",
   "id": "c3a96799",
   "metadata": {},
   "source": [
    "Clear all non-zero entries in the column of that pivot"
   ]
  },
  {
   "cell_type": "code",
   "execution_count": null,
   "id": "4b97c401",
   "metadata": {},
   "outputs": [],
   "source": [
    "M[1] = M[1] - M[0]\n",
    "M[3] = M[3] - 2*M[0]\n",
    "M"
   ]
  },
  {
   "cell_type": "markdown",
   "id": "30c88115",
   "metadata": {},
   "source": [
    "Swap rows"
   ]
  },
  {
   "cell_type": "code",
   "execution_count": null,
   "id": "84f2d6d4",
   "metadata": {
    "scrolled": true
   },
   "outputs": [],
   "source": [
    "M[[1,2]] = M[[2,1]]\n",
    "M"
   ]
  },
  {
   "cell_type": "markdown",
   "id": "e32ee549",
   "metadata": {},
   "source": [
    "Replace R1 with R1 - R2"
   ]
  },
  {
   "cell_type": "code",
   "execution_count": null,
   "id": "cb1915f7",
   "metadata": {},
   "outputs": [],
   "source": [
    "M[0] = M[0] - M[1]\n",
    "M[3] = M[3] + M[1]\n",
    "M"
   ]
  },
  {
   "cell_type": "markdown",
   "id": "55b117ce",
   "metadata": {},
   "source": [
    "Scale R3"
   ]
  },
  {
   "cell_type": "code",
   "execution_count": null,
   "id": "c89aa020",
   "metadata": {
    "scrolled": true
   },
   "outputs": [],
   "source": [
    "M[2] = -1*M[2]\n",
    "M"
   ]
  },
  {
   "cell_type": "markdown",
   "id": "45d86ebc",
   "metadata": {},
   "source": [
    "Replace R4 with R4 - 2*R3"
   ]
  },
  {
   "cell_type": "code",
   "execution_count": null,
   "id": "191df724",
   "metadata": {},
   "outputs": [],
   "source": [
    "M[3] = M[3] - 2*M[2]\n",
    "M"
   ]
  },
  {
   "attachments": {},
   "cell_type": "markdown",
   "id": "15af01c2",
   "metadata": {},
   "source": [
    "3) Row-reduced echelon form"
   ]
  },
  {
   "cell_type": "code",
   "execution_count": null,
   "id": "5a100839",
   "metadata": {},
   "outputs": [],
   "source": [
    "r1 = np.array([0, 1, 2]).reshape(1,-1)\n",
    "r2 = np.array([3, 0, -3]).reshape(1,-1)\n",
    "r3 = np.array([2, 2, 5]).reshape(1,-1)\n",
    "r4 = np.array([0, -2, 1]).reshape(1,-1)\n",
    "M = np.array([r1, r2, r3, r4]).reshape(4,-1)\n",
    "M"
   ]
  },
  {
   "cell_type": "markdown",
   "id": "5475bf13",
   "metadata": {},
   "source": [
    "R1 Step 1: Swap rows 1 & 2"
   ]
  },
  {
   "cell_type": "code",
   "execution_count": null,
   "id": "5553493a",
   "metadata": {},
   "outputs": [],
   "source": [
    "M[[0,1]] = M[[1,0]]\n",
    "M"
   ]
  },
  {
   "cell_type": "markdown",
   "id": "877a0e08",
   "metadata": {},
   "source": [
    "R1 Step 2: Scale R1 to have a leading 1"
   ]
  },
  {
   "cell_type": "code",
   "execution_count": null,
   "id": "7e055cc0",
   "metadata": {},
   "outputs": [],
   "source": [
    "M[0] = M[0] / 3\n",
    "M"
   ]
  },
  {
   "cell_type": "markdown",
   "id": "0a35d8f0",
   "metadata": {},
   "source": [
    "R1 Step 3: Clear that column to have a pivot"
   ]
  },
  {
   "cell_type": "code",
   "execution_count": null,
   "id": "a332feea",
   "metadata": {},
   "outputs": [],
   "source": [
    "M[2] = M[2] - 2*M[0]\n",
    "M"
   ]
  },
  {
   "cell_type": "markdown",
   "id": "92c956a4",
   "metadata": {},
   "source": [
    "R2 Step 3: Clear that column to have a pivot"
   ]
  },
  {
   "cell_type": "code",
   "execution_count": null,
   "id": "4ce456fd",
   "metadata": {},
   "outputs": [],
   "source": [
    "M[2] = M[2] - 2*M[1]\n",
    "M[3] = M[3] + 2*M[1]\n",
    "M"
   ]
  },
  {
   "attachments": {},
   "cell_type": "markdown",
   "id": "11529361",
   "metadata": {},
   "source": [
    "4) Row-reduced echelon form"
   ]
  },
  {
   "cell_type": "code",
   "execution_count": null,
   "id": "51ac0af6",
   "metadata": {},
   "outputs": [],
   "source": [
    "r1 = np.array([0, 1, 2, -1]).reshape(1,-1)\n",
    "r2 = np.array([3, 0, -3, 3]).reshape(1,-1)\n",
    "r3 = np.array([2, 2, 5, 3]).reshape(1,-1)\n",
    "r4 = np.array([0, -2, 1, 7]).reshape(1,-1)\n",
    "M = np.array([r1, r2, r3, r4]).reshape(4,-1)\n",
    "M"
   ]
  },
  {
   "cell_type": "markdown",
   "id": "43859512",
   "metadata": {},
   "source": [
    "R1 Step 1: Swap rows 1 & 2"
   ]
  },
  {
   "cell_type": "code",
   "execution_count": null,
   "id": "a63cf62e",
   "metadata": {},
   "outputs": [],
   "source": [
    "M[[0,1]] = M[[1,0]]\n",
    "M"
   ]
  },
  {
   "cell_type": "markdown",
   "id": "318e9ee6",
   "metadata": {},
   "source": [
    "R1 Step 2: Scale R1 to have a leading 1"
   ]
  },
  {
   "cell_type": "code",
   "execution_count": null,
   "id": "eda7126c",
   "metadata": {},
   "outputs": [],
   "source": [
    "M[0] = M[0] / 3\n",
    "M"
   ]
  },
  {
   "cell_type": "markdown",
   "id": "77ce50b7",
   "metadata": {},
   "source": [
    "R1 Step 3: Clear that column to have a pivot"
   ]
  },
  {
   "cell_type": "code",
   "execution_count": null,
   "id": "fc8ecb6d",
   "metadata": {},
   "outputs": [],
   "source": [
    "M[2] = M[2] - 2*M[0]\n",
    "M"
   ]
  },
  {
   "cell_type": "markdown",
   "id": "6a22168a",
   "metadata": {},
   "source": [
    "R2 Step 3: Clear that column to have a pivot"
   ]
  },
  {
   "cell_type": "code",
   "execution_count": null,
   "id": "e3c34391",
   "metadata": {},
   "outputs": [],
   "source": [
    "M[2] = M[2] - 2*M[1]\n",
    "M[3] = M[3] + 2*M[1]\n",
    "M"
   ]
  },
  {
   "cell_type": "markdown",
   "id": "5501c1ca",
   "metadata": {},
   "source": [
    "R3 Step 2: Scale R3 to have a leading 1"
   ]
  },
  {
   "cell_type": "code",
   "execution_count": null,
   "id": "d40dc700",
   "metadata": {
    "scrolled": true
   },
   "outputs": [],
   "source": [
    "M[2] = M[2]/3\n",
    "M"
   ]
  },
  {
   "cell_type": "markdown",
   "id": "12b1810b",
   "metadata": {},
   "source": [
    "R3 Step 3: Clear that column to have a pivot"
   ]
  },
  {
   "cell_type": "code",
   "execution_count": null,
   "id": "d7073dc0",
   "metadata": {
    "scrolled": true
   },
   "outputs": [],
   "source": [
    "M[0] = M[0] + M[2]\n",
    "M[1] = M[1] - 2*M[2]\n",
    "M[3] = M[3] -5* M[2]\n",
    "M"
   ]
  }
 ],
 "metadata": {
  "kernelspec": {
   "display_name": "brewer",
   "language": "python",
   "name": "brewer"
  },
  "language_info": {
   "codemirror_mode": {
    "name": "ipython",
    "version": 3
   },
   "file_extension": ".py",
   "mimetype": "text/x-python",
   "name": "python",
   "nbconvert_exporter": "python",
   "pygments_lexer": "ipython3",
   "version": "3.10.2"
  }
 },
 "nbformat": 4,
 "nbformat_minor": 5
}

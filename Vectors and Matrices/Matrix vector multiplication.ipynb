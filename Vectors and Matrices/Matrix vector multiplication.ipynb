{
 "cells": [
  {
   "cell_type": "code",
   "execution_count": 1,
   "id": "2c162d16",
   "metadata": {},
   "outputs": [],
   "source": [
    "import numpy as np"
   ]
  },
  {
   "cell_type": "markdown",
   "id": "8c441070",
   "metadata": {},
   "source": [
    "Excersise 1:"
   ]
  },
  {
   "cell_type": "code",
   "execution_count": 2,
   "id": "40e9ba87",
   "metadata": {
    "scrolled": true
   },
   "outputs": [
    {
     "data": {
      "text/plain": [
       "array([[-1.,  0.,  2.],\n",
       "       [ 2., -1.,  1.],\n",
       "       [ 3.,  1., -1.]])"
      ]
     },
     "execution_count": 2,
     "metadata": {},
     "output_type": "execute_result"
    }
   ],
   "source": [
    "r1 = np.array([-1, 0, 2]).reshape(1,-1)\n",
    "r2 = np.array([2, -1, 1]).reshape(1,-1)\n",
    "r3 = np.array([3, 1, -1]).reshape(1,-1)\n",
    "A = np.array([r1,r2,r3]).reshape(3,-1).astype(float)\n",
    "A"
   ]
  },
  {
   "cell_type": "code",
   "execution_count": 3,
   "id": "6a7ed543",
   "metadata": {},
   "outputs": [
    {
     "data": {
      "text/plain": [
       "(3, 3)"
      ]
     },
     "execution_count": 3,
     "metadata": {},
     "output_type": "execute_result"
    }
   ],
   "source": [
    "A.shape"
   ]
  },
  {
   "cell_type": "code",
   "execution_count": 4,
   "id": "905a525b",
   "metadata": {},
   "outputs": [
    {
     "data": {
      "text/plain": [
       "array([[-1],\n",
       "       [ 2],\n",
       "       [ 1]])"
      ]
     },
     "execution_count": 4,
     "metadata": {},
     "output_type": "execute_result"
    }
   ],
   "source": [
    "x = np.array([-1, 2, 1]).reshape(-1,1)\n",
    "x"
   ]
  },
  {
   "cell_type": "code",
   "execution_count": 5,
   "id": "c4377e8b",
   "metadata": {},
   "outputs": [
    {
     "data": {
      "text/plain": [
       "array([[ 3.],\n",
       "       [-3.],\n",
       "       [-2.]])"
      ]
     },
     "execution_count": 5,
     "metadata": {},
     "output_type": "execute_result"
    }
   ],
   "source": [
    "A @ x"
   ]
  },
  {
   "cell_type": "code",
   "execution_count": 6,
   "id": "498e02b6",
   "metadata": {},
   "outputs": [
    {
     "data": {
      "text/plain": [
       "array([[ 3.],\n",
       "       [-3.],\n",
       "       [-2.]])"
      ]
     },
     "execution_count": 6,
     "metadata": {},
     "output_type": "execute_result"
    }
   ],
   "source": [
    "np.matmul(A, x)"
   ]
  },
  {
   "cell_type": "markdown",
   "id": "a0798469",
   "metadata": {},
   "source": [
    "Via Linear Transformations"
   ]
  },
  {
   "cell_type": "code",
   "execution_count": 7,
   "id": "500e2d8d",
   "metadata": {
    "scrolled": true
   },
   "outputs": [
    {
     "data": {
      "text/plain": [
       "array([[ 3.],\n",
       "       [-3.],\n",
       "       [-2.]])"
      ]
     },
     "execution_count": 7,
     "metadata": {},
     "output_type": "execute_result"
    }
   ],
   "source": [
    "(A[:, 0] * x[0]).reshape(-1, 1) + \\\n",
    "(A[:, 1] * x[1]).reshape(-1, 1) + \\\n",
    "(A[:, 2] * x[2]).reshape(-1, 1)"
   ]
  },
  {
   "cell_type": "markdown",
   "id": "c458a40a",
   "metadata": {},
   "source": [
    "Via Dot-Product"
   ]
  },
  {
   "cell_type": "code",
   "execution_count": 8,
   "id": "f0df82a6",
   "metadata": {
    "scrolled": true
   },
   "outputs": [
    {
     "data": {
      "text/plain": [
       "array([[ 3.],\n",
       "       [-3.],\n",
       "       [-2.]])"
      ]
     },
     "execution_count": 8,
     "metadata": {},
     "output_type": "execute_result"
    }
   ],
   "source": [
    "np.array([np.dot(A[0], x),\n",
    "          np.dot(A[1], x),\n",
    "          np.dot(A[2], x)\n",
    "         ]).reshape(-1,1)"
   ]
  },
  {
   "cell_type": "markdown",
   "id": "92c68a30",
   "metadata": {},
   "source": [
    "Excersise 2:"
   ]
  },
  {
   "cell_type": "markdown",
   "id": "0a1e9898",
   "metadata": {},
   "source": [
    "<img src=\"images/matrix_vector1.PNG\">"
   ]
  },
  {
   "cell_type": "code",
   "execution_count": 9,
   "id": "242f671f",
   "metadata": {
    "scrolled": true
   },
   "outputs": [
    {
     "data": {
      "text/plain": [
       "array([[ 1.,  2.,  3.],\n",
       "       [ 1.,  3.,  2.],\n",
       "       [ 3., -1., 16.]])"
      ]
     },
     "execution_count": 9,
     "metadata": {},
     "output_type": "execute_result"
    }
   ],
   "source": [
    "c1 = np.array([1, 1, 3]).reshape(-1, 1)\n",
    "c2 = np.array([2, 3, -1]).reshape(-1, 1)\n",
    "c3 = np.array([3, 2, 16]).reshape(-1, 1)\n",
    "A = np.concatenate([c1, c2, c3], axis = 1).astype(float)\n",
    "A"
   ]
  },
  {
   "cell_type": "code",
   "execution_count": 10,
   "id": "65362e37",
   "metadata": {},
   "outputs": [
    {
     "data": {
      "text/plain": [
       "array([[ 1.,  2.,  3.],\n",
       "       [ 0.,  1., -1.],\n",
       "       [ 0., -7.,  7.]])"
      ]
     },
     "execution_count": 10,
     "metadata": {},
     "output_type": "execute_result"
    }
   ],
   "source": [
    "A[1] = A[1] - A[0]\n",
    "A[2] = A[2] - 3*A[0]\n",
    "A"
   ]
  },
  {
   "cell_type": "code",
   "execution_count": 11,
   "id": "65350cdf",
   "metadata": {
    "scrolled": true
   },
   "outputs": [
    {
     "data": {
      "text/plain": [
       "array([[ 1.,  0.,  5.],\n",
       "       [ 0.,  1., -1.],\n",
       "       [ 0.,  0.,  0.]])"
      ]
     },
     "execution_count": 11,
     "metadata": {},
     "output_type": "execute_result"
    }
   ],
   "source": [
    "A[0] = A[0] - 2*A[1]\n",
    "A[2] = A[2] + 7*A[1]\n",
    "A"
   ]
  },
  {
   "cell_type": "code",
   "execution_count": 12,
   "id": "419354b5",
   "metadata": {},
   "outputs": [
    {
     "data": {
      "text/plain": [
       "array([[ 5],\n",
       "       [-1]])"
      ]
     },
     "execution_count": 12,
     "metadata": {},
     "output_type": "execute_result"
    }
   ],
   "source": [
    "x = np.array([5, -1]).reshape(-1, 1)\n",
    "x"
   ]
  },
  {
   "cell_type": "markdown",
   "id": "0a60b96c",
   "metadata": {},
   "source": [
    "Check Result"
   ]
  },
  {
   "cell_type": "code",
   "execution_count": 13,
   "id": "ac0caa1e",
   "metadata": {},
   "outputs": [],
   "source": [
    "A = np.concatenate([c1, c2], axis = 1).astype(float)"
   ]
  },
  {
   "cell_type": "code",
   "execution_count": 14,
   "id": "026f4d7a",
   "metadata": {},
   "outputs": [],
   "source": [
    "assert (A @ x == np.array([[ 3.],[ 2.],[16.]])).all()"
   ]
  },
  {
   "cell_type": "markdown",
   "id": "fd1d8f76",
   "metadata": {},
   "source": [
    "Excersise 3:"
   ]
  },
  {
   "cell_type": "markdown",
   "id": "7f0c9317",
   "metadata": {},
   "source": [
    "<img src=\"images/matrix_vector2.PNG\">"
   ]
  },
  {
   "cell_type": "code",
   "execution_count": 15,
   "id": "77adce37",
   "metadata": {
    "scrolled": true
   },
   "outputs": [
    {
     "data": {
      "text/plain": [
       "array([[ 1.,  2.,  3.],\n",
       "       [ 1.,  3., -4.],\n",
       "       [ 3., -1.,  7.]])"
      ]
     },
     "execution_count": 15,
     "metadata": {},
     "output_type": "execute_result"
    }
   ],
   "source": [
    "c1 = np.array([1, 1, 3]).reshape(-1, 1)\n",
    "c2 = np.array([2, 3, -1]).reshape(-1, 1)\n",
    "c3 = np.array([3, -4, 7]).reshape(-1, 1)\n",
    "A = np.concatenate([c1, c2, c3], axis = 1).astype(float)\n",
    "A"
   ]
  },
  {
   "cell_type": "code",
   "execution_count": 16,
   "id": "b0cd27bb",
   "metadata": {},
   "outputs": [
    {
     "data": {
      "text/plain": [
       "array([[ 1.,  2.,  3.],\n",
       "       [ 0.,  1., -7.],\n",
       "       [ 0., -7., -2.]])"
      ]
     },
     "execution_count": 16,
     "metadata": {},
     "output_type": "execute_result"
    }
   ],
   "source": [
    "A[1] = A[1] - A[0]\n",
    "A[2] = A[2] - 3*A[0]\n",
    "A"
   ]
  },
  {
   "cell_type": "code",
   "execution_count": 17,
   "id": "100f1188",
   "metadata": {
    "scrolled": true
   },
   "outputs": [
    {
     "data": {
      "text/plain": [
       "array([[  1.,   0.,  17.],\n",
       "       [  0.,   1.,  -7.],\n",
       "       [  0.,   0., -51.]])"
      ]
     },
     "execution_count": 17,
     "metadata": {},
     "output_type": "execute_result"
    }
   ],
   "source": [
    "A[0] = A[0] - 2*A[1]\n",
    "A[2] = A[2] + 7*A[1]\n",
    "A"
   ]
  },
  {
   "cell_type": "markdown",
   "id": "918d6407",
   "metadata": {},
   "source": [
    "Matrix is inconsistent"
   ]
  },
  {
   "cell_type": "code",
   "execution_count": 18,
   "id": "d796666c",
   "metadata": {},
   "outputs": [],
   "source": [
    "x = np.array([0, 0, 0, 0]).reshape(-1, 1)"
   ]
  },
  {
   "cell_type": "code",
   "execution_count": 19,
   "id": "a6315355",
   "metadata": {},
   "outputs": [
    {
     "data": {
      "text/plain": [
       "array([[0],\n",
       "       [0],\n",
       "       [0],\n",
       "       [0]])"
      ]
     },
     "execution_count": 19,
     "metadata": {},
     "output_type": "execute_result"
    }
   ],
   "source": [
    "x"
   ]
  },
  {
   "cell_type": "markdown",
   "id": "f03dd156",
   "metadata": {},
   "source": [
    "Excersise 4:"
   ]
  },
  {
   "cell_type": "code",
   "execution_count": 20,
   "id": "2a2e0c31",
   "metadata": {},
   "outputs": [
    {
     "data": {
      "text/plain": [
       "array([[ 1.,  1.,  0., -1.,  0.],\n",
       "       [ 5.,  6., -1.,  1.,  0.]])"
      ]
     },
     "execution_count": 20,
     "metadata": {},
     "output_type": "execute_result"
    }
   ],
   "source": [
    "r1 = np.array([1, 1, 0, -1, 0]).reshape(1,-1)\n",
    "r2 = np.array([5, 6, -1, 1, 0]).reshape(1,-1)\n",
    "A = np.array([r1,r2]).reshape(2,-1).astype(float)\n",
    "A"
   ]
  },
  {
   "cell_type": "code",
   "execution_count": 21,
   "id": "04f07b63",
   "metadata": {},
   "outputs": [
    {
     "data": {
      "text/plain": [
       "array([[ 1.,  1.,  0., -1.,  0.],\n",
       "       [ 0.,  1., -1.,  6.,  0.]])"
      ]
     },
     "execution_count": 21,
     "metadata": {},
     "output_type": "execute_result"
    }
   ],
   "source": [
    "A[1] = A[1] - 5*A[0]\n",
    "A"
   ]
  },
  {
   "cell_type": "code",
   "execution_count": 22,
   "id": "95764b1f",
   "metadata": {},
   "outputs": [
    {
     "data": {
      "text/plain": [
       "array([[ 1.,  0.,  1., -7.,  0.],\n",
       "       [ 0.,  1., -1.,  6.,  0.]])"
      ]
     },
     "execution_count": 22,
     "metadata": {},
     "output_type": "execute_result"
    }
   ],
   "source": [
    "A[0] = A[0] - A[1]\n",
    "A"
   ]
  }
 ],
 "metadata": {
  "kernelspec": {
   "display_name": "LR",
   "language": "python",
   "name": "lr"
  },
  "language_info": {
   "codemirror_mode": {
    "name": "ipython",
    "version": 3
   },
   "file_extension": ".py",
   "mimetype": "text/x-python",
   "name": "python",
   "nbconvert_exporter": "python",
   "pygments_lexer": "ipython3",
   "version": "3.10.2"
  }
 },
 "nbformat": 4,
 "nbformat_minor": 5
}
